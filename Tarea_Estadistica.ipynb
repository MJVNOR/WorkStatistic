{
  "nbformat": 4,
  "nbformat_minor": 0,
  "metadata": {
    "colab": {
      "name": "Tarea Estadistica.ipynb",
      "provenance": [],
      "collapsed_sections": [],
      "include_colab_link": true
    },
    "kernelspec": {
      "name": "python3",
      "display_name": "Python 3"
    }
  },
  "cells": [
    {
      "cell_type": "markdown",
      "metadata": {
        "id": "view-in-github",
        "colab_type": "text"
      },
      "source": [
        "<a href=\"https://colab.research.google.com/github/MJVNOR/WorkStatistic/blob/master/Tarea_Estadistica.ipynb\" target=\"_parent\"><img src=\"https://colab.research.google.com/assets/colab-badge.svg\" alt=\"Open In Colab\"/></a>"
      ]
    },
    {
      "cell_type": "code",
      "metadata": {
        "id": "t8k6rj8e-C6K",
        "colab_type": "code",
        "colab": {}
      },
      "source": [
        "import pandas as pd\n",
        "import numpy as np\n",
        "import statistics as st\n",
        "from math import log,sqrt,fabs,floor\n",
        "import matplotlib.pyplot as plt\n",
        "from numpy.random import seed\n",
        "from numpy.random import randn\n",
        "\n",
        "def media(a):\n",
        "    return np.mean(a)\n",
        "\n",
        "def mediana(a):\n",
        "    return st.median(a)\n",
        "    \n",
        "def rango(lista):\n",
        "    return np.max(lista)-np.min(lista)\n",
        "\n",
        "def desviacion_estandar(a):\n",
        "    media1 = media(a)\n",
        "    sum1 = 0\n",
        "    for i in a:\n",
        "        sum1 += (i - media1)**2\n",
        "    return sqrt(sum1/len(a))\n",
        "\n",
        "def desviacion_estandar_s(a):\n",
        "    media1 = media(a)\n",
        "    sum1 = 0\n",
        "    for i in a:\n",
        "        sum1 += (i - media1)**2\n",
        "    return sqrt(sum1/(len(a)-1))\n",
        "\n",
        "def desviacion_absoluta_promedio(a):\n",
        "    media1 = media(a)\n",
        "    sum1 = 0\n",
        "    for i in a:\n",
        "        sum1 += fabs(i - media1)\n",
        "    return sum1/len(a)\n",
        "\n",
        "def desviacion_absoluta_promedio_problema_6_temperatura(a):\n",
        "    media1 = 0\n",
        "    sum1 = 0\n",
        "    for i in a:\n",
        "        sum1 += fabs(i - media1)\n",
        "    return sum1/len(a)\n",
        "\n",
        "def varianza_muestral_1(lista):\n",
        "    media1 = media(lista)\n",
        "    sumatoria = 0\n",
        "    for elemento in lista:\n",
        "        sumatoria += (elemento-media1)**2\n",
        "    n = len(lista)\n",
        "    return (sumatoria/(n-1))\n",
        "\n",
        "def varianza_muestral_2(lista):\n",
        "    media1 = media(lista)\n",
        "    sumatoria = 0\n",
        "    for elemento in lista:\n",
        "        sumatoria += elemento**2 - media1**2\n",
        "    n = len(lista)\n",
        "    return sumatoria/n-1\n",
        "\n",
        "def varianza_muestral_3(lista):\n",
        "    sumatoria_elevada = 0\n",
        "    sumatoria = 0\n",
        "    for elemento in lista:\n",
        "        sumatoria_elevada += (elemento)**2\n",
        "        sumatoria += (elemento)\n",
        "    n = len(lista)\n",
        "    dividendo = sumatoria_elevada - (sumatoria**2/n)\n",
        "    #print(\"sumaelevada: \",sumatoria_elevada,\"suma: \",sumatoria )\n",
        "    return (dividendo/(n-1))\n",
        "\n",
        "# porcetajes\n",
        "# Q1 = 0.25\n",
        "# Q2 = 0.50\n",
        "# Q3 = 0.75\n",
        "def cuartil(datos,porcentaje):\n",
        "    if(len(datos) %2 == 0):\n",
        "        indice_cuartil = len(datos) * porcentaje\n",
        "    else:\n",
        "        indice_cuartil = len(datos) * porcentaje\n",
        "        indice_cuartil += 1\n",
        "    indice_cuartil = floor(indice_cuartil)\n",
        "    return datos[indice_cuartil-1]\n",
        "\n",
        "def rango_intercuantil(datos):\n",
        "    return cuartil(datos,0.75) - cuartil(datos,0.25)\n",
        "\n",
        "def obtener_lista_de_limites(datos):\n",
        "    limites = []\n",
        "    n = len(datos)\n",
        "    k = round(sqrt(n))\n",
        "    nMax =  np.max(datos)\n",
        "    nMin =  np.min(datos)\n",
        "    rango = nMax - nMin\n",
        "    w = rango / k\n",
        "    #print(n,k,nMax,nMin,rango,w)\n",
        "\n",
        "    limite_i = nMin\n",
        "    for i in range(k):\n",
        "        if i == 0:\n",
        "            linf = nMin\n",
        "            lsup = nMax + w\n",
        "        else:\n",
        "            linf = limite_i\n",
        "            lsup = limite_i + w\n",
        "        limite_i = limite_i + w\n",
        "        limites.append([linf,lsup])\n",
        "    return limites\n",
        "\n",
        "def obtener_lista_de_frecuencias(datos):\n",
        "    LSUP, LINF = 1, 0\n",
        "    frecuencias = []\n",
        "    limites = obtener_lista_de_limites(datos)\n",
        "    ii = 0\n",
        "    for index1, limite_i in enumerate(limites):\n",
        "        i = 0\n",
        "        for index2, dato_i in enumerate(datos):\n",
        "            if index1 == 0:\n",
        "                if dato_i >= limite_i[LINF] and dato_i <= limite_i[LSUP] :\n",
        "                    i = i+1\n",
        "            else:\n",
        "                if dato_i > limite_i[LINF] and dato_i <= limite_i[LSUP] :\n",
        "                    i = i+1\n",
        "        ii = ii+i\n",
        "        frecuencias.append([limite_i[LINF], limite_i[LSUP],i,ii/n,(i/n)*100,ii,(ii/n)*100])\n",
        "    tabla = pd.DataFrame(frecuencias, columns=['linf','lsup','fabsoluta','frelativa','fporcentual','Facumulada','Facmporcentual'])\n",
        "    return tabla\n",
        "\n",
        "def media_teorica_poblacional(min,max):\n",
        "    a = min \n",
        "    b = max\n",
        "    dividendo = (b+a)\n",
        "    return (dividendo/2)\n",
        "\n",
        "def varianza_teorica_poblacional(min,max):\n",
        "    a = min\n",
        "    b = max\n",
        "    dividendo = (b-a)**2\n",
        "    return (dividendo/12)\n",
        "\n",
        "def desviacion_de_la_media(a):\n",
        "    max = media(a) + desviacion_estandar_s(a)\n",
        "    min = media(a) - desviacion_estandar_s(a)\n",
        "    return [min, max]\n",
        "\n",
        "def desviacion_de_la_media_2(a):\n",
        "    max = media(a) + 2*desviacion_estandar_s(a)\n",
        "    min = media(a) - 2*desviacion_estandar_s(a)\n",
        "    return [min, max]"
      ],
      "execution_count": 0,
      "outputs": []
    },
    {
      "cell_type": "markdown",
      "metadata": {
        "id": "nB96RBqdVmjM",
        "colab_type": "text"
      },
      "source": [
        "# Problema #1"
      ]
    },
    {
      "cell_type": "code",
      "metadata": {
        "id": "SS7KxZBWB_5K",
        "colab_type": "code",
        "outputId": "489bf5bb-7ddd-4ff7-e1aa-7fb4bb4cea1a",
        "colab": {
          "base_uri": "https://localhost:8080/",
          "height": 153
        }
      },
      "source": [
        "a1 = [18,9,13,20,14,4,16,10,14,18]\n",
        "a2 = [10,13,14,12,12,14,11,16,14,12]\n",
        "a3 = [15,10,4,18,6,8,12,16,7,10]\n",
        "\n",
        "print(\"Media\")\n",
        "print(media(a1),media(a2),media(a3))\n",
        "\n",
        "print(\"Desviacion estandar\")\n",
        "print(desviacion_estandar(a1), desviacion_estandar(a2), desviacion_estandar(a3))\n",
        "print(\"Algoritmo con mejor media y desciacion estandar es:\", desviacion_estandar(a3))\n",
        "print(\"Mediana\")\n",
        "print(mediana(a1),mediana(a2),mediana(a3))\n",
        "\n",
        "print(desviacion_absoluta_promedio(a1), desviacion_absoluta_promedio(a2), desviacion_absoluta_promedio(a3))"
      ],
      "execution_count": 0,
      "outputs": [
        {
          "output_type": "stream",
          "text": [
            "Media\n",
            "13.6 12.8 10.6\n",
            "Desviacion estandar\n",
            "4.608687448721165 1.6613247725836147 4.363484845854286\n",
            "Algoritmo con mejor media y desciacion estandar es: 4.363484845854286\n",
            "Mediana\n",
            "14.0 12.5 10.0\n",
            "3.6799999999999997 1.4 3.72\n"
          ],
          "name": "stdout"
        }
      ]
    },
    {
      "cell_type": "markdown",
      "metadata": {
        "id": "B2GYkp-cVsfQ",
        "colab_type": "text"
      },
      "source": [
        "# Problema #2"
      ]
    },
    {
      "cell_type": "code",
      "metadata": {
        "id": "Fo5XKH1EYlzX",
        "colab_type": "code",
        "outputId": "12b668de-9b07-45a1-a4dd-7708f379ebf5",
        "colab": {
          "base_uri": "https://localhost:8080/",
          "height": 802
        }
      },
      "source": [
        "#Tarea2\n",
        "\n",
        "lista1 = [28,34,30,32,42,28,36,44,30,37,40,40]\n",
        "lista2 = [34,30,26,38,40,42,35,40,30,39,38,45]\n",
        "print(\"a) Calcule la media, el rango y la desviacion estandar de los datos.\")\n",
        "print(\"Proceso\",\"\\t  Algoritmo1:\",\"\\t\\t\\t\\t   Algoritmo2\")\n",
        "print(\"Media: \",\"\\t \",media(lista1),\"\\t\\t\\t  \",media(lista2))\n",
        "print(\"Mediana:\",\"\\t \",mediana(lista1),\"\\t\\t\\t\\t\\t  \",mediana(lista2))\n",
        "varianza1_1 = varianza_muestral_1(lista1)\n",
        "varianza2_1 = varianza_muestral_2(lista1)\n",
        "varianza3_1 = varianza_muestral_3(lista1)\n",
        "varianza1_2 = varianza_muestral_1(lista2)\n",
        "varianza2_2 = varianza_muestral_2(lista2)\n",
        "varianza3_2 = varianza_muestral_3(lista2)\n",
        "print(\"Varianza1: \",\"\\t \",varianza1_1,\"\\t\\t\\t  \",varianza1_2)\n",
        "print(\"Varianza2: \",\"\\t \",varianza2_1,\"\\t\\t\\t  \",varianza2_2)\n",
        "print(\"Varianza3: \",\"\\t \",varianza3_1,\"\\t\\t\\t  \",varianza3_2)\n",
        "print(\"\\nb) Que algoritmo precenta mas variación o variabilidad? \\n\\tEl primer algoritmo\")\n",
        "\n",
        "print(\"\\nc) Cual algoritmo parece tener mejor comportamiento promedio y porque? \\n\\t El primero y el tercero porque tienen hacen menos procesos\")\n",
        "\n",
        "print(\"\\nd) Que diferencias resaltan con respcto al numero de operaciones?\\n\\t los datos de la seria 1 no se inclina mucho pero la seria dos se inclina mas a la derecha\\n\")\n",
        "plt.boxplot(lista1,vert=False, sym=\"o\")\n",
        "plt.show()\n",
        "plt.boxplot(lista2,vert=False, sym=\"o\")\n",
        "plt.show()\n",
        "\n"
      ],
      "execution_count": 0,
      "outputs": [
        {
          "output_type": "stream",
          "text": [
            "a) Calcule la media, el rango y la desviacion estandar de los datos.\n",
            "Proceso \t  Algoritmo1: \t\t\t\t   Algoritmo2\n",
            "Media:  \t  35.083333333333336 \t\t\t   36.416666666666664\n",
            "Mediana: \t  35.0 \t\t\t\t\t   38.0\n",
            "Varianza1:  \t  31.174242424242422 \t\t\t   30.992424242424246\n",
            "Varianza2:  \t  27.576388888888612 \t\t\t   27.409722222222474\n",
            "Varianza3:  \t  31.17424242424237 \t\t\t   30.99242424242419\n",
            "\n",
            "b) Que algoritmo precenta mas variación o variabilidad? \n",
            "\tEl primer algoritmo\n",
            "\n",
            "c) Cual algoritmo parece tener mejor comportamiento promedio y porque? \n",
            "\t El primero y el tercero porque tienen hacen menos procesos\n",
            "\n",
            "d) Que diferencias resaltan con respcto al numero de operaciones?\n",
            "\t los datos de la seria 1 no se inclina mucho pero la seria dos se inclina mas a la derecha\n",
            "\n"
          ],
          "name": "stdout"
        },
        {
          "output_type": "display_data",
          "data": {
            "image/png": "[encoded data removed]",
            "text/plain": [
              "<Figure size 432x288 with 1 Axes>"
            ]
          },
          "metadata": {
            "tags": []
          }
        },
        {
          "output_type": "display_data",
          "data": {
            "image/png": "[encoded data removed]",
            "text/plain": [
              "<Figure size 432x288 with 1 Axes>"
            ]
          },
          "metadata": {
            "tags": []
          }
        }
      ]
    },
    {
      "cell_type": "markdown",
      "metadata": {
        "id": "EaO0FKSiVBs2",
        "colab_type": "text"
      },
      "source": [
        "# Problema #3\n"
      ]
    },
    {
      "cell_type": "code",
      "metadata": {
        "id": "9Y6dBWdUVGHe",
        "colab_type": "code",
        "outputId": "f64cacdd-fe77-462a-b4d1-928e7e01f022",
        "colab": {
          "base_uri": "https://localhost:8080/",
          "height": 357
        }
      },
      "source": [
        "algoritmo1 = [400,200,350,450,480,360,100]\n",
        "algoritmo2 = [320,350,300,280,290,300,320,400]\n",
        "\n",
        "print(\"a) Calcule la media, el rango y la desviacion estandar de los datos.\")\n",
        "print(\"Proceso\",\"\\t  Algoritmo1:\",\"\\t\\t\\t\\t   Algoritmo2\")\n",
        "print(\"Media: \",\"\\t \",media(algoritmo1),\"\\t\\t\\t  \",media(algoritmo2))\n",
        "print(\"rango:\",\"\\t\\t \",rango(algoritmo1),\"\\t\\t\\t\\t\\t  \",rango(algoritmo2))\n",
        "print(\"Desviacion E:\",\"\\t \",desviacion_estandar(algoritmo1),\"\\t\\t\\t  \",desviacion_estandar(algoritmo2))\n",
        "print(\"Varianza:\",\"\\t \",varianza_muestral_1(algoritmo1),\"\\t\\t\\t  \",varianza_muestral_1(algoritmo2))\n",
        "\n",
        "print(\"\\nb) Que algoritmo presenta mayor variabilidad? las diferencias son significativas? \\n\\t El primero algoritmo tiene un rango mas amplio, la varianza y la desviacion estandar se disparan muy alto\")\n",
        "\n",
        "print(\"\\nc) Que algoritmo tuvo mayor dispersion del total de cruzamientos?\\n\\t El primer algortmo tiene mayor dispersion\")\n",
        "\n",
        "print(\"\\nd) Considerando que entre mas alta sea la tasa de cruzamiento (total de cruzas/500) el desempeño es mejor, que algoritmo resulta mas conveniente?\")\n",
        "print(\"\\t Encontremos el desempeño de cada algoritmo para tomar una decicion. realizemos un promedio del (total de cruzas/500) por cada algoritmo.\")\n",
        "sum = 0\n",
        "for elemento in algoritmo1:\n",
        "    sum += elemento/500\n",
        "print(\"Desempeño Algoritmo 1:\")\n",
        "print(sum/len(algoritmo1))\n",
        "sum = 0\n",
        "for elemento in algoritmo2:\n",
        "    sum += elemento/500\n",
        "print(\"Desempeño Algoritmo 2:\")\n",
        "print(sum/len(algoritmo2))\n",
        "print(\"Por lo tanto concluimos que aunque sea por muy poco el algoritmo 1 es el que presenta mayor desempeño.\")"
      ],
      "execution_count": 0,
      "outputs": [
        {
          "output_type": "stream",
          "text": [
            "a) Calcule la media, el rango y la desviacion estandar de los datos.\n",
            "Proceso \t  Algoritmo1: \t\t\t\t   Algoritmo2\n",
            "Media:  \t  334.2857142857143 \t\t\t   320.0\n",
            "rango: \t\t  380 \t\t\t\t\t   120\n",
            "Desviacion E: \t  126.92597874994958 \t\t\t   36.40054944640259\n",
            "Varianza: \t  18795.238095238095 \t\t\t   1514.2857142857142\n",
            "\n",
            "b) Que algoritmo presenta mayor variabilidad? las diferencias son significativas? \n",
            "\t El primero algoritmo tiene un rango mas amplio, la varianza y la desviacion estandar se disparan muy alto\n",
            "\n",
            "c) Que algoritmo tuvo mayor dispersion del total de cruzamientos?\n",
            "\t El primer algortmo tiene mayor dispersion\n",
            "\n",
            "d) Considerando que entre mas alta sea la tasa de cruzamiento (total de cruzas/500) el desempeño es mejor, que algoritmo resulta mas conveniente?\n",
            "\t Encontremos el desempeño de cada algoritmo para tomar una decicion. realizemos un promedio del (total de cruzas/500) por cada algoritmo.\n",
            "Desempeño Algoritmo 1:\n",
            "0.6685714285714287\n",
            "Desempeño Algoritmo 2:\n",
            "0.64\n",
            "Por lo tanto concluimos que aunque sea por muy poco el algoritmo 1 es el que presenta mayor desempeño.\n"
          ],
          "name": "stdout"
        }
      ]
    },
    {
      "cell_type": "markdown",
      "metadata": {
        "id": "rWwcxmKZRXIz",
        "colab_type": "text"
      },
      "source": [
        "# Problema #4"
      ]
    },
    {
      "cell_type": "code",
      "metadata": {
        "id": "nFmyBQ0wRZXh",
        "colab_type": "code",
        "outputId": "5b0d86a6-3e2b-4b9e-d177-9200caea9f3e",
        "colab": {
          "base_uri": "https://localhost:8080/",
          "height": 452
        }
      },
      "source": [
        "algoritmo3 = [450,400,100,140,300,200,120,100,80,490,460,490,395]\n",
        "print(\"a)\")\n",
        "print(\"Proceso\",\"\\t  Algoritmo1:\",\"\\t\\t\\t\\t   Algoritmo2\",\"\\t\\t\\t\\t   Algoritmo3\")\n",
        "print(\"Media:\",\"\\t\\t \",media(algoritmo1),\"\\t\\t\\t  \",media(algoritmo2),\"\\t\\t\\t\\t  \",media(algoritmo3))\n",
        "print(\"Rango:\",\"\\t\\t \",rango(algoritmo1),\"\\t\\t\\t\\t\\t  \",rango(algoritmo2),\"\\t\\t\\t\\t\\t  \",rango(algoritmo3))\n",
        "print(\"desviacion E:\",\"\\t \",desviacion_estandar(algoritmo1),\"\\t\\t\\t  \",desviacion_absoluta_promedio(algoritmo2),\"\\t\\t\\t\\t  \",desviacion_absoluta_promedio(algoritmo2))\n",
        "\n",
        "sum = 0\n",
        "for elemento in algoritmo3:\n",
        "    sum += elemento/500\n",
        "print(\"Desempeño Algoritmo 3:\",(sum/len(algoritmo3)))\n",
        "print(\"CUal de los 3 algoritmos crees que es el mejor? \\n\\tEl primer algoritmo ya que tiene mejor desempeño\")\n",
        "print(\"b) Que algoritmo es mas confiable en su promedio: \\n\\tEl primer algoritmo ya que si sus datos estan mas parejos\")\n",
        "\n",
        "print(\"c) Diagrama de caja triple de los datos de los algoritmos\")\n",
        "x = [algoritmo1,algoritmo2,algoritmo3]\n",
        "plt.boxplot(x,vert=False,sym=\"o\")\n",
        "plt.show()"
      ],
      "execution_count": 0,
      "outputs": [
        {
          "output_type": "stream",
          "text": [
            "a)\n",
            "Proceso \t  Algoritmo1: \t\t\t\t   Algoritmo2 \t\t\t\t   Algoritmo3\n",
            "Media: \t\t  334.2857142857143 \t\t\t   320.0 \t\t\t\t   286.53846153846155\n",
            "Rango: \t\t  380 \t\t\t\t\t   120 \t\t\t\t\t   410\n",
            "desviacion E: \t  126.92597874994958 \t\t\t   27.5 \t\t\t\t   27.5\n",
            "Desempeño Algoritmo 3: 0.573076923076923\n",
            "CUal de los 3 algoritmos crees que es el mejor? \n",
            "\tEl primer algoritmo ya que tiene mejor desempeño\n",
            "b) Que algoritmo es mas confiable en su promedio: \n",
            "\tEl primer algoritmo ya que si sus datos estan mas parejos\n",
            "c) Diagrama de caja triple de los datos de los algoritmos\n"
          ],
          "name": "stdout"
        },
        {
          "output_type": "display_data",
          "data": {
            "image/png": "[encoded data removed]",
            "text/plain": [
              "<Figure size 432x288 with 1 Axes>"
            ]
          },
          "metadata": {
            "tags": []
          }
        }
      ]
    },
    {
      "cell_type": "markdown",
      "metadata": {
        "id": "oES__2A0RZ1O",
        "colab_type": "text"
      },
      "source": [
        "# Problema #5"
      ]
    },
    {
      "cell_type": "code",
      "metadata": {
        "id": "xY4Ell8IRcaR",
        "colab_type": "code",
        "outputId": "ed48d632-7079-4315-a31b-8b00061943c8",
        "colab": {
          "base_uri": "https://localhost:8080/",
          "height": 119
        }
      },
      "source": [
        "miMuestra = 30\n",
        "miMedia = 60\n",
        "miCuasiVarianza = 10\n",
        "print(\"Muestra = \",miMuestra)\n",
        "print(\"Media = \",miMedia)\n",
        "print(\"Cuasivarianza = \",miCuasiVarianza)\n",
        "print(\"Cual es la varianza y la desviacion estandar?\")\n",
        "seed(1)\n",
        "var = (miCuasiVarianza*miMuestra)/(miMuestra-1)\n",
        "print(\"varianza: \", var)\n",
        "print(\"Desviacion estandar: \",sqrt(var))"
      ],
      "execution_count": 0,
      "outputs": [
        {
          "output_type": "stream",
          "text": [
            "Muestra =  30\n",
            "Media =  60\n",
            "Cuasivarianza =  10\n",
            "Cual es la varianza y la desviacion estandar?\n",
            "varianza:  10.344827586206897\n",
            "Desviacion estandar:  3.2163376045133845\n"
          ],
          "name": "stdout"
        }
      ]
    },
    {
      "cell_type": "markdown",
      "metadata": {
        "id": "ezO-v7edRc9q",
        "colab_type": "text"
      },
      "source": [
        "# Problema #6"
      ]
    },
    {
      "cell_type": "code",
      "metadata": {
        "id": "oFFmsoz7Revq",
        "colab_type": "code",
        "outputId": "d42469ed-fdc4-4ed1-90c0-8a29729fa07d",
        "colab": {
          "base_uri": "https://localhost:8080/",
          "height": 622
        }
      },
      "source": [
        "temperaturas = [2.0,0.0,1.5,-2.0,0.0,-3.2,1.0,4.0,0.0,-3.1,-1.2,1.0,-0.43,1.8,0.05,-0.01]\n",
        "print(\"a) Sugieren los datos que los termometros estan calibrados a temperatura ideal?,porque? \\n\\tNo ya que nomas tres de los 16 termometros estan en 0.0\")\n",
        "print(\"b) \\n   1.-Sugieren los datos que en promedio la muestra de termometros estan bien calibrados? \\n\\tSi ya que el promedio que es igual a \", media(temperaturas),\",esto significa que estan calibrados bien ya que estan en aproximadamente 0\")\n",
        "print(\"   2.-Que tanto se desvia de la temperatura ideal: \", desviacion_estandar(temperaturas))\n",
        "print(\"   3.-Es esta desviacion un valor que debe preocupar a los fabricantes? si ya que se equibocan por casi 2 grados\")\n",
        "print(\"c)\")\n",
        "print(\"   1.-Desviacion absoluta con respecto a la media muestra: \", desviacion_absoluta_promedio(temperaturas))\n",
        "print(\"   2.-Desviacion absoluta con respecto a la temperatura ideal: \", desviacion_absoluta_promedio_problema_6_temperatura(temperaturas))\n",
        "print(\"   3.-Cual desviacion es mejor para medir la temperatura de los termomemotros? \\n\\tLa que promedio ya que es lo que tenemos en la muetra\")\n",
        "print(\"d) Cual considera que es una mejor medida fisica para medir las desviaciones de las temperaturas, la desviacion promedio absoluta \\no la desviacion estandar s?\")\n",
        "print(\"   \\tDesviacion promedio absoluta: \", desviacion_absoluta_promedio(temperaturas))\n",
        "print(\"   \\tDesviacion estandar s: \", desviacion_estandar_s(temperaturas))\n",
        "print(\"   \\t la de promedio absoluta porque es la que menos se aleja\")\n",
        "print(\"f) Son los 10 termometros de la muestra frabricxados por la compañia aceptables o de buena calidad?\\n\\tNo ya que se equibocan la mayoria por un rango de 1 a casi 10 grados\")\n",
        "print(\"g) Con base en el inciso anterior, se puede inferir los resultados a todos los termometros frabricados por la compañia \\n\\tSi ya que agaramos una muestra significativa de la poblacion\")\n",
        "\n",
        "plt.boxplot(temperaturas,vert=False,sym=\"o\")\n",
        "plt.show()"
      ],
      "execution_count": 0,
      "outputs": [
        {
          "output_type": "stream",
          "text": [
            "a) Sugieren los datos que los termometros estan calibrados a temperatura ideal?,porque? \n",
            "\tNo ya que nomas tres de los 16 termometros estan en 0.0\n",
            "b) \n",
            "   1.-Sugieren los datos que en promedio la muestra de termometros estan bien calibrados? \n",
            "\tSi ya que el promedio que es igual a  0.088125 ,esto significa que estan calibrados bien ya que estan en aproximadamente 0\n",
            "   2.-Que tanto se desvia de la temperatura ideal:  1.8173339633581387\n",
            "   3.-Es esta desviacion un valor que debe preocupar a los fabricantes? si ya que se equibocan por casi 2 grados\n",
            "c)\n",
            "   1.-Desviacion absoluta con respecto a la media muestra:  1.34640625\n",
            "   2.-Desviacion absoluta con respecto a la temperatura ideal:  1.3306250000000002\n",
            "   3.-Cual desviacion es mejor para medir la temperatura de los termomemotros? \n",
            "\tLa que promedio ya que es lo que tenemos en la muetra\n",
            "d) Cual considera que es una mejor medida fisica para medir las desviaciones de las temperaturas, la desviacion promedio absoluta \n",
            "o la desviacion estandar s?\n",
            "   \tDesviacion promedio absoluta:  1.34640625\n",
            "   \tDesviacion estandar s:  1.8769344465555176\n",
            "   \t la de promedio absoluta porque es la que menos se aleja\n",
            "f) Son los 10 termometros de la muestra frabricxados por la compañia aceptables o de buena calidad?\n",
            "\tNo ya que se equibocan la mayoria por un rango de 1 a casi 10 grados\n",
            "g) Con base en el inciso anterior, se puede inferir los resultados a todos los termometros frabricados por la compañia \n",
            "\tSi ya que agaramos una muestra significativa de la poblacion\n"
          ],
          "name": "stdout"
        },
        {
          "output_type": "display_data",
          "data": {
            "image/png": "[encoded data removed]",
            "text/plain": [
              "<Figure size 432x288 with 1 Axes>"
            ]
          },
          "metadata": {
            "tags": []
          }
        }
      ]
    },
    {
      "cell_type": "markdown",
      "metadata": {
        "id": "B0RTu7XQQjTM",
        "colab_type": "text"
      },
      "source": [
        "# Problema #7"
      ]
    },
    {
      "cell_type": "code",
      "metadata": {
        "id": "vzmLIev1QmLI",
        "colab_type": "code",
        "outputId": "7fd5611c-9112-4134-ee9a-19c0ee0f3cb0",
        "colab": {
          "base_uri": "https://localhost:8080/",
          "height": 1000
        }
      },
      "source": [
        "n=25\n",
        "datos = [5.3,8.2,13.8,74.1,85.3,88.0,90.2,91.5,92.4,92.9,93.6,94.3,94.8,94.9,95.5,95.8,95.9,96.6,96.7,98.1,99.0,101.4,103.7,106.0,113.5]\n",
        "Min = np.min(datos)\n",
        "Max = np.max(datos)\n",
        "df = pd.DataFrame(datos, columns=['datos']) \n",
        "\n",
        "print(\"a) Determine el primero, el segundo y tercer cuartil. Verifique que los siguientes calculos son correctos.\")\n",
        "print(\"Los calculos siguientes fueron verificados, son correctos y son los siguientes:\")\n",
        "tabla1 = pd.DataFrame([[Min,Max,cuartil(datos,0.25),cuartil(datos,0.50),cuartil(datos,0.75)]], columns=['Min','Max',\"Q1\",\"Q2\",\"Q3\"]) \n",
        "print(tabla1)\n",
        "print(\"\\n\")\n",
        "print(\"b) Elabore un diagrama de caja con los datos originales, esta grafica de caja se hace con los puntos min,max,Q1,Q2,Q3.\")\n",
        "\n",
        "plt.boxplot(datos[5:22],vert=False, sym=\"o\")\n",
        "plt.show()\n",
        "print(\"\\nc) Señale los valores sospechosos que pueden ser apartados 'moderados' o 'extremos' con relacion al grupo central de datos\")\n",
        "print(\"\\t Observando la grafica obtenemos que los valores sospechosos extremos son: 5.3, 8.2 y 13.6\")\n",
        "print(\"\\t y los valores moderados son: 74.1 y 113\")\n",
        "print(\"\\nd) Determine el rango intercuartil (denotado con fs o dispersion de los cuartos en el libro de jay Devore). \\nVerifique que la siguiente tabla de valores es correcta.\")\n",
        "iqr = rango_intercuantil(datos)\n",
        "print(\"\\t El rango intercuantil es Q3-Q1 =\",iqr)\n",
        "print(\"\\t Entonces 1.5RI = \",iqr*1.5, \"Y 3RI =\",iqr*3)\n",
        "print(\"\\n\\t Por lo tanto para RI tenemos:\")\n",
        "print(\"\\t f1 =\",cuartil(datos,0.25)-iqr*1.5, \"Y a1 =\",cuartil(datos,0.25))\n",
        "print(\"\\n\\t Por lo tanto para 1.5RI tenemos\")\n",
        "print(\"\\t f2 =\",cuartil(datos,0.75)+iqr*1.5, \"Y a2 =\",cuartil(datos,0.25)+iqr)\n",
        "print(\"\\n\\t Por lo tanto para 3RI tenemos:\")\n",
        "print(\"\\t F1 =\",cuartil(datos,0.25)-iqr*3, \"Y a2 =\",cuartil(datos,0.75)+iqr*3)\n",
        "print(\"\\n\\t Finalmente podemos decir que la tabla es correcta!\")\n",
        "\n",
        "print(\"\\ne) Utilice la informacion de la tabla anterior y determine analiticamente los cinco datos atipicos (outliers) y \\netiquetelos si son datos alejados 'moderados' o 'extremos'\")\n",
        "print(\"\\n\\t Los datos moderados son los que estan dentro del rango (f1,Q1)U(Q3,f2) es decir:\")\n",
        "print(\"\\t 80.45 <= x <= 90.2 (por la izquierda) y 96.7 <= x <= 106.5 (por la derecha)\")\n",
        "\n",
        "print(\"\\n\\t Los datos extremos son los que estan fuera del rango (F1,f1)U(f2,F2) es decir:\")\n",
        "print(\"\\t x < 70.7 (por la izquierda) y x > 116,2 (por la derecha)\")\n",
        "\n",
        "print(\"\\nf) Construya un nuevo diagrama de caja modificado con los puntos a1,Q1,Q2,Q3,a2 mas los outliers; en esta \\ngrafica los datos alejados 'moderados' se marcan con un punto y los datos apartados 'extremos' con un circulo.\")\n",
        "plt.boxplot(datos,vert=False, sym=\"o\")\n",
        "plt.show()\n",
        "print(\"g) Comparar el diagrama de caja del inciso b) con el del inciso f). Comente las caractersticas importantes de la distribucion de los datos. \\nCual de los dos diagramas de caja considera que es mejor y porque para visualizar la distribucion y dispersion de los datos, el \\nprimer diagrama sin considerar outliers o el segundo diagrama considerando outliers?\")\n",
        "print(\"\\t Analisis propio de los diagramas:\")\n",
        "print(\"\\t Permite conocer la simetria de la distribucion?\")\n",
        "print(\"\\t Diagrama 1: Si\")\n",
        "print(\"\\t Diagrama 2: Si\")\n",
        "print(\"\\t Permite ver la presencia de valores atípicos?\")\n",
        "print(\"\\t Diagrama 1: NO\")\n",
        "print(\"\\t Diagrama 2: Si\")\n",
        "\n",
        "print(\"\\t Considero que el mejor el diagrama 2 porque nos permite tener una mas vision general de los datos.\")"
      ],
      "execution_count": 0,
      "outputs": [
        {
          "output_type": "stream",
          "text": [
            "a) Determine el primero, el segundo y tercer cuartil. Verifique que los siguientes calculos son correctos.\n",
            "Los calculos siguientes fueron verificados, son correctos y son los siguientes:\n",
            "   Min    Max    Q1    Q2    Q3\n",
            "0  5.3  113.5  90.2  94.8  96.7\n",
            "\n",
            "\n",
            "b) Elabore un diagrama de caja con los datos originales, esta grafica de caja se hace con los puntos min,max,Q1,Q2,Q3.\n"
          ],
          "name": "stdout"
        },
        {
          "output_type": "display_data",
          "data": {
            "image/png": "[encoded data removed]",
            "text/plain": [
              "<Figure size 432x288 with 1 Axes>"
            ]
          },
          "metadata": {
            "tags": []
          }
        },
        {
          "output_type": "stream",
          "text": [
            "\n",
            "c) Señale los valores sospechosos que pueden ser apartados 'moderados' o 'extremos' con relacion al grupo central de datos\n",
            "\t Observando la grafica obtenemos que los valores sospechosos extremos son: 5.3, 8.2 y 13.6\n",
            "\t y los valores moderados son: 74.1 y 113\n",
            "\n",
            "d) Determine el rango intercuartil (denotado con fs o dispersion de los cuartos en el libro de jay Devore). \n",
            "Verifique que la siguiente tabla de valores es correcta.\n",
            "\t El rango intercuantil es Q3-Q1 = 6.5\n",
            "\t Entonces 1.5RI =  9.75 Y 3RI = 19.5\n",
            "\n",
            "\t Por lo tanto para RI tenemos:\n",
            "\t f1 = 80.45 Y a1 = 90.2\n",
            "\n",
            "\t Por lo tanto para 1.5RI tenemos\n",
            "\t f2 = 106.45 Y a2 = 96.7\n",
            "\n",
            "\t Por lo tanto para 3RI tenemos:\n",
            "\t F1 = 70.7 Y a2 = 116.2\n",
            "\n",
            "\t Finalmente podemos decir que la tabla es correcta!\n",
            "\n",
            "e) Utilice la informacion de la tabla anterior y determine analiticamente los cinco datos atipicos (outliers) y \n",
            "etiquetelos si son datos alejados 'moderados' o 'extremos'\n",
            "\n",
            "\t Los datos moderados son los que estan dentro del rango (f1,Q1)U(Q3,f2) es decir:\n",
            "\t 80.45 <= x <= 90.2 (por la izquierda) y 96.7 <= x <= 106.5 (por la derecha)\n",
            "\n",
            "\t Los datos extremos son los que estan fuera del rango (F1,f1)U(f2,F2) es decir:\n",
            "\t x < 70.7 (por la izquierda) y x > 116,2 (por la derecha)\n",
            "\n",
            "f) Construya un nuevo diagrama de caja modificado con los puntos a1,Q1,Q2,Q3,a2 mas los outliers; en esta \n",
            "grafica los datos alejados 'moderados' se marcan con un punto y los datos apartados 'extremos' con un circulo.\n"
          ],
          "name": "stdout"
        },
        {
          "output_type": "display_data",
          "data": {
            "image/png": "[encoded data removed]",
            "text/plain": [
              "<Figure size 432x288 with 1 Axes>"
            ]
          },
          "metadata": {
            "tags": []
          }
        },
        {
          "output_type": "stream",
          "text": [
            "g) Comparar el diagrama de caja del inciso b) con el del inciso f). Comente las caractersticas importantes de la distribucion de los datos. \n",
            "Cual de los dos diagramas de caja considera que es mejor y porque para visualizar la distribucion y dispersion de los datos, el \n",
            "primer diagrama sin considerar outliers o el segundo diagrama considerando outliers?\n",
            "\t Analisis propio de los diagramas:\n",
            "\t Permite conocer la simetria de la distribucion?\n",
            "\t Diagrama 1: Si\n",
            "\t Diagrama 2: Si\n",
            "\t Permite ver la presencia de valores atípicos?\n",
            "\t Diagrama 1: NO\n",
            "\t Diagrama 2: Si\n",
            "\t Considero que el mejor el diagrama 2 porque nos permite tener una mas vision general de los datos.\n"
          ],
          "name": "stdout"
        }
      ]
    },
    {
      "cell_type": "markdown",
      "metadata": {
        "id": "iCgz0Oc6QpxM",
        "colab_type": "text"
      },
      "source": [
        "# Problema #8"
      ]
    },
    {
      "cell_type": "code",
      "metadata": {
        "id": "ddVPthveQo6-",
        "colab_type": "code",
        "colab": {}
      },
      "source": [
        "##CAPTURAR DATOS AL ARCHIVO SPSS"
      ],
      "execution_count": 0,
      "outputs": []
    },
    {
      "cell_type": "markdown",
      "metadata": {
        "id": "3cvmvfl3Qtg2",
        "colab_type": "text"
      },
      "source": [
        "# Problema #9"
      ]
    },
    {
      "cell_type": "code",
      "metadata": {
        "id": "PeI19nPGQykM",
        "colab_type": "code",
        "outputId": "ed006fde-0916-4d09-873d-b13ccdf1ad0a",
        "colab": {
          "base_uri": "https://localhost:8080/",
          "height": 427
        }
      },
      "source": [
        "n = 100\n",
        "datos = [3.82,1.00,5.96,8.99,8.84,9.58,0.14,4.07,8.63,1.38,\n",
        "         2.45,0.45,0.32,1.64,2.19,0.17,2.85,3.43,5.53,3.57,\n",
        "         3.71,3.55,9.10,4.66,4.26,3.03,9.75,8.06,9.91,2.56,\n",
        "         9.51,0.53,7.05,8.16,9.72,4.66,3.00,7.50,3.51,7.75,\n",
        "         0.74,1.98,0.64,3.58,4.87,5.11,3.73,9.85,0.40,2.30,\n",
        "         0.04,9.26,1.00,2.56,7.75,6.79,8.09,7.24,0.85,1.32,\n",
        "         7.52,6.26,1.73,4.04,5.52,7.11,5.55,1.81,9.70,6.86,\n",
        "         5.28,7.96,8.05,2.62,1.77,8.66,1.14,0.59,7.61,7.38,\n",
        "         9.86,9.25,9.03,5.44,5.00,6.74,4.89,1.45,0.37,7.96,\n",
        "         6.71,7.31,5.84,1.52,8.92,3.77,2.00,2.05,3.33,3.25]\n",
        "\n",
        "print(\"a) Elabore un histograma de frecuencias relativas utilizando 10 clases y\")\n",
        "print(\"comente si los datos a simple vista parecen provenir o no de una distribucion\")\n",
        "print(\"constante. la distibucion uniforme es una funcion constante igual a:\")\n",
        "print(\"f(x) = 1 / (b-a) , para a <= x <= b , donde a = 0 y b = a\")\n",
        "\n",
        "frecuencias = obtener_lista_de_frecuencias(datos)\n",
        "frecuencias\n",
        "\n"
      ],
      "execution_count": 0,
      "outputs": [
        {
          "output_type": "stream",
          "text": [
            "a) Elabore un histograma de frecuencias relativas utilizando 10 clases y\n",
            "comente si los datos a simple vista parecen provenir o no de una distribucion\n",
            "constante. la distibucion uniforme es una funcion constante igual a:\n",
            "f(x) = 1 / (b-a) , para a <= x <= b , donde a = 0 y b = a\n"
          ],
          "name": "stdout"
        },
        {
          "output_type": "execute_result",
          "data": {
            "text/html": [
              "<div>\n",
              "<style scoped>\n",
              "    .dataframe tbody tr th:only-of-type {\n",
              "        vertical-align: middle;\n",
              "    }\n",
              "\n",
              "    .dataframe tbody tr th {\n",
              "        vertical-align: top;\n",
              "    }\n",
              "\n",
              "    .dataframe thead th {\n",
              "        text-align: right;\n",
              "    }\n",
              "</style>\n",
              "<table border=\"1\" class=\"dataframe\">\n",
              "  <thead>\n",
              "    <tr style=\"text-align: right;\">\n",
              "      <th></th>\n",
              "      <th>linf</th>\n",
              "      <th>lsup</th>\n",
              "      <th>fabsoluta</th>\n",
              "      <th>frelativa</th>\n",
              "      <th>fporcentual</th>\n",
              "      <th>Facumulada</th>\n",
              "      <th>Facmporcentual</th>\n",
              "    </tr>\n",
              "  </thead>\n",
              "  <tbody>\n",
              "    <tr>\n",
              "      <th>0</th>\n",
              "      <td>0.040</td>\n",
              "      <td>10.897</td>\n",
              "      <td>100</td>\n",
              "      <td>1.00</td>\n",
              "      <td>100.0</td>\n",
              "      <td>100</td>\n",
              "      <td>100.0</td>\n",
              "    </tr>\n",
              "    <tr>\n",
              "      <th>1</th>\n",
              "      <td>1.027</td>\n",
              "      <td>2.014</td>\n",
              "      <td>11</td>\n",
              "      <td>1.11</td>\n",
              "      <td>11.0</td>\n",
              "      <td>111</td>\n",
              "      <td>111.0</td>\n",
              "    </tr>\n",
              "    <tr>\n",
              "      <th>2</th>\n",
              "      <td>2.014</td>\n",
              "      <td>3.001</td>\n",
              "      <td>9</td>\n",
              "      <td>1.20</td>\n",
              "      <td>9.0</td>\n",
              "      <td>120</td>\n",
              "      <td>120.0</td>\n",
              "    </tr>\n",
              "    <tr>\n",
              "      <th>3</th>\n",
              "      <td>3.001</td>\n",
              "      <td>3.988</td>\n",
              "      <td>12</td>\n",
              "      <td>1.32</td>\n",
              "      <td>12.0</td>\n",
              "      <td>132</td>\n",
              "      <td>132.0</td>\n",
              "    </tr>\n",
              "    <tr>\n",
              "      <th>4</th>\n",
              "      <td>3.988</td>\n",
              "      <td>4.975</td>\n",
              "      <td>7</td>\n",
              "      <td>1.39</td>\n",
              "      <td>7.0</td>\n",
              "      <td>139</td>\n",
              "      <td>139.0</td>\n",
              "    </tr>\n",
              "    <tr>\n",
              "      <th>5</th>\n",
              "      <td>4.975</td>\n",
              "      <td>5.962</td>\n",
              "      <td>9</td>\n",
              "      <td>1.48</td>\n",
              "      <td>9.0</td>\n",
              "      <td>148</td>\n",
              "      <td>148.0</td>\n",
              "    </tr>\n",
              "    <tr>\n",
              "      <th>6</th>\n",
              "      <td>5.962</td>\n",
              "      <td>6.949</td>\n",
              "      <td>5</td>\n",
              "      <td>1.53</td>\n",
              "      <td>5.0</td>\n",
              "      <td>153</td>\n",
              "      <td>153.0</td>\n",
              "    </tr>\n",
              "    <tr>\n",
              "      <th>7</th>\n",
              "      <td>6.949</td>\n",
              "      <td>7.936</td>\n",
              "      <td>10</td>\n",
              "      <td>1.63</td>\n",
              "      <td>10.0</td>\n",
              "      <td>163</td>\n",
              "      <td>163.0</td>\n",
              "    </tr>\n",
              "    <tr>\n",
              "      <th>8</th>\n",
              "      <td>7.936</td>\n",
              "      <td>8.923</td>\n",
              "      <td>10</td>\n",
              "      <td>1.73</td>\n",
              "      <td>10.0</td>\n",
              "      <td>173</td>\n",
              "      <td>173.0</td>\n",
              "    </tr>\n",
              "    <tr>\n",
              "      <th>9</th>\n",
              "      <td>8.923</td>\n",
              "      <td>9.910</td>\n",
              "      <td>13</td>\n",
              "      <td>1.86</td>\n",
              "      <td>13.0</td>\n",
              "      <td>186</td>\n",
              "      <td>186.0</td>\n",
              "    </tr>\n",
              "  </tbody>\n",
              "</table>\n",
              "</div>"
            ],
            "text/plain": [
              "    linf    lsup  fabsoluta  frelativa  fporcentual  Facumulada  Facmporcentual\n",
              "0  0.040  10.897        100       1.00        100.0         100           100.0\n",
              "1  1.027   2.014         11       1.11         11.0         111           111.0\n",
              "2  2.014   3.001          9       1.20          9.0         120           120.0\n",
              "3  3.001   3.988         12       1.32         12.0         132           132.0\n",
              "4  3.988   4.975          7       1.39          7.0         139           139.0\n",
              "5  4.975   5.962          9       1.48          9.0         148           148.0\n",
              "6  5.962   6.949          5       1.53          5.0         153           153.0\n",
              "7  6.949   7.936         10       1.63         10.0         163           163.0\n",
              "8  7.936   8.923         10       1.73         10.0         173           173.0\n",
              "9  8.923   9.910         13       1.86         13.0         186           186.0"
            ]
          },
          "metadata": {
            "tags": []
          },
          "execution_count": 3
        }
      ]
    },
    {
      "cell_type": "code",
      "metadata": {
        "id": "0wvCi70zL6zc",
        "colab_type": "code",
        "outputId": "f899486e-4dbb-4c94-d1a5-942fced3bd6f",
        "colab": {
          "base_uri": "https://localhost:8080/",
          "height": 278
        }
      },
      "source": [
        "histograma1 = frecuencias['frelativa'].plot(kind='bar',title='Histograma de Frecuencias Relativas',width=1)"
      ],
      "execution_count": 0,
      "outputs": [
        {
          "output_type": "display_data",
          "data": {
            "image/png": "[encoded data removed]",
            "text/plain": [
              "<Figure size 432x288 with 1 Axes>"
            ]
          },
          "metadata": {
            "tags": []
          }
        }
      ]
    },
    {
      "cell_type": "code",
      "metadata": {
        "id": "u_ELnEqWMA5F",
        "colab_type": "code",
        "outputId": "4f3c35c8-d8dd-4aab-ed65-b04e060c16b9",
        "colab": {
          "base_uri": "https://localhost:8080/",
          "height": 343
        }
      },
      "source": [
        "print(\"b) La media poblacion y varianza poblacional teoricas esperadas para numeros aleatorios \\ncon distribucion uniforme en el intervalo [a,b] vienen dadas por las formulas\")\n",
        "print(\"\\tMedia teorica poblacional: u = (a+b)/2 \")\n",
        "print(\"\\tVarianza teorica poblaciona: o^2 = (b-a)^2/12\")\n",
        "min = np.min(datos) \n",
        "max = np.max(datos)\n",
        "print(\"\\tMedia teorica poblacional: \",media_teorica_poblacional(min,max))\n",
        "print(\"\\tVarianza teorica poblaciona: \",varianza_teorica_poblacional(min,max))\n",
        "print(\"c) Obtenga las estadisticas muestrales de media y varianza:\")\n",
        "print(\"\\tMedia muestral: \", media(datos))\n",
        "print(\"\\tVarianza: \", varianza_muestral_3(datos))\n",
        "print(\"Es normal que difieran ya que la medio teorica es poblacional y nosotros estamos usando una muestra.\")\n",
        "print(\"d) En cuanto espera que difiera la media muestral del valor teorico esperado?\")\n",
        "diferencia =  abs(media(datos) - media_teorica_poblacional(min,max))\n",
        "print(\"\\t\",diferencia)\n",
        "## EXTRA\n",
        "print(\"Extra: \\n\")\n",
        "desviacionMedia = desviacion_de_la_media(datos)\n",
        "desviacionMedia2 = desviacion_de_la_media_2(datos) \n",
        "print(desviacionMedia,desviacionMedia2)\n",
        "datosAcomodados = sorted(datos)\n",
        "print(datosAcomodados)\n",
        "print(\"Porcentaje de datos x-+s = 58%\")\n",
        "print(\"Porcentaje de datos x-+2s = 100%\")\n",
        "\n"
      ],
      "execution_count": 0,
      "outputs": [
        {
          "output_type": "stream",
          "text": [
            "b) La media poblacion y varianza poblacional teoricas esperadas para numeros aleatorios \n",
            "con distribucion uniforme en el intervalo [a,b] vienen dadas por las formulas\n",
            "\tMedia teorica poblacional: u = (a+b)/2 \n",
            "\tVarianza teorica poblaciona: o^2 = (b-a)^2/12\n",
            "\tMedia teorica poblacional:  4.975\n",
            "\tVarianza teorica poblaciona:  8.118075000000003\n",
            "c) Obtenga las estadisticas muestrales de media y varianza:\n",
            "\tMedia muestral:  4.8494\n",
            "\tVarianza:  9.560314787878797\n",
            "Es normal que difieran ya que la medio teorica es poblacional y nosotros estamos usando una muestra.\n",
            "d) En cuanto espera que difiera la media muestral del valor teorico esperado?\n",
            "\t 0.1255999999999995\n",
            "Extra: \n",
            "\n",
            "[1.7574241288330228, 7.9413758711669775] [-1.3345517423339546, 11.033351742333956]\n",
            "[0.04, 0.14, 0.17, 0.32, 0.37, 0.4, 0.45, 0.53, 0.59, 0.64, 0.74, 0.85, 1.0, 1.0, 1.14, 1.32, 1.38, 1.45, 1.52, 1.64, 1.73, 1.77, 1.81, 1.98, 2.0, 2.05, 2.19, 2.3, 2.45, 2.56, 2.56, 2.62, 2.85, 3.0, 3.03, 3.25, 3.33, 3.43, 3.51, 3.55, 3.57, 3.58, 3.71, 3.73, 3.77, 3.82, 4.04, 4.07, 4.26, 4.66, 4.66, 4.87, 4.89, 5.0, 5.11, 5.28, 5.44, 5.52, 5.53, 5.55, 5.84, 5.96, 6.26, 6.71, 6.74, 6.79, 6.86, 7.05, 7.11, 7.24, 7.31, 7.38, 7.5, 7.52, 7.61, 7.75, 7.75, 7.96, 7.96, 8.05, 8.06, 8.09, 8.16, 8.63, 8.66, 8.84, 8.92, 8.99, 9.03, 9.1, 9.25, 9.26, 9.51, 9.58, 9.7, 9.72, 9.75, 9.85, 9.86, 9.91]\n",
            "Porcentaje de datos x-+s = 58%\n",
            "Porcentaje de datos x-+2s = 100%\n"
          ],
          "name": "stdout"
        }
      ]
    }
  ]
}